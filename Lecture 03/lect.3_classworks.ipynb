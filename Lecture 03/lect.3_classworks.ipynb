{
 "cells": [
  {
   "cell_type": "code",
   "execution_count": 27,
   "metadata": {
    "pycharm": {
     "name": "#%%\n"
    }
   },
   "outputs": [],
   "source": [
    "# dependencies\n",
    "import numpy as np"
   ]
  },
  {
   "cell_type": "markdown",
   "metadata": {
    "pycharm": {
     "name": "#%% md\n"
    }
   },
   "source": [
    "## Classwork 3-01\n",
    "\n",
    "Define a matrix $A$, find the eigendecomposition of A\n",
    "\n",
    "Reference:\n",
    "\n",
    "$$\n",
    "AV = VD, A = VDV^{-1}\n",
    "$$\n",
    "\n",
    "$V$: matrix, $A$'s eigenvectors\n",
    "\n",
    "$D$: vector, $A$'s eigenvalues"
   ]
  },
  {
   "cell_type": "code",
   "execution_count": null,
   "metadata": {
    "pycharm": {
     "name": "#%%\n"
    }
   },
   "outputs": [
    {
     "name": "stdout",
     "output_type": "stream",
     "text": [
      "[PASSED]\n",
      "\n",
      "V =\n",
      "[[-0.57735027 -0.81305253 -0.34164801]\n",
      " [-0.57735027  0.47140452 -0.47140452]\n",
      " [-0.57735027  0.34164801  0.81305253]]\n",
      "\n",
      "D =\n",
      "[[15.          0.          0.        ]\n",
      " [ 0.          4.89897949  0.        ]\n",
      " [ 0.          0.         -4.89897949]]\n",
      "\n",
      "-------------------\n",
      "\n",
      "The given matrix A =\n",
      "[[8 1 6]\n",
      " [3 5 7]\n",
      " [4 9 2]]\n",
      "        --> [ det(A) = -359.9999999999997 ]\n",
      "\n",
      "The eigen values and eigenvectors of A are\n",
      "    \n",
      "14.999999999999996\t [-0.57735027 -0.81305253 -0.34164801]\n",
      "4.898979485566361\t [-0.57735027  0.47140452 -0.47140452]\n",
      "-4.898979485566357\t [-0.57735027  0.34164801  0.81305253]\n"
     ]
    }
   ],
   "source": [
    "# A = np.random.randint(0, 10, (3,3))\n",
    "A = np.array(([8, 1, 6], [3, 5, 7], [4, 9, 2]))\n",
    "detA = np.linalg.det(A)\n",
    "\n",
    "# Find eigen values and eigenvectors of A and construct V and D\n",
    "eigenValues, eigenVectors = np.linalg.eig(A)\n",
    "\n",
    "V = eigenVectors\n",
    "V_inv = np.linalg.inv(V)\n",
    "D = np.diag(eigenValues)\n",
    "\n",
    "\n",
    "if A.all() ==np.cross(np.cross(V, D), V_inv).all():\n",
    "    print(\"[PASSED]\")\n",
    "else:\n",
    "    print(\"[FAILED]\")\n",
    "    \n",
    "print(f\"\"\"\n",
    "V =\n",
    "{V}\n",
    "\n",
    "D =\n",
    "{D}\n",
    "\n",
    "-------------------\n",
    "\n",
    "The given matrix A =\n",
    "{A}\n",
    "        --> [ det(A) = {detA} ]\n",
    "\n",
    "The eigen values and eigenvectors of A are\n",
    "    \"\"\")\n",
    "\n",
    "for eigenVal, eigenVec in zip(eigenValues, eigenVectors):\n",
    "    print(f\"{eigenVal}\\t {eigenVec}\")\n",
    "    \n"
   ]
  },
  {
   "cell_type": "markdown",
   "metadata": {},
   "source": [
    "## Classwork 3-02\n",
    "\n",
    "Define a matrix $A$, find the singular value decomposition of A\n",
    "\n",
    "Reference:\n",
    "\n",
    "$$\n",
    "A = U\\Sigma V^{T},\n",
    "$$\n",
    "\n",
    "$V$: $m\\times m$ unitary matrix\n",
    "\n",
    "$D$: vector, $A$'s eigenvalues"
   ]
  },
  {
   "cell_type": "markdown",
   "metadata": {},
   "source": [
    "## Classwork 3-03\n",
    "\n",
    "Generate Pascall's Triange using iterator."
   ]
  },
  {
   "cell_type": "code",
   "execution_count": 32,
   "metadata": {},
   "outputs": [
    {
     "name": "stdout",
     "output_type": "stream",
     "text": [
      "            1            \n",
      "           1 1           \n",
      "          1 2 1          \n",
      "         1 3 3 1         \n"
     ]
    }
   ],
   "source": [
    "def pascal_triange_iter():\n",
    "    L = [1]\n",
    "    while True:\n",
    "        yield L\n",
    "        L = [sum(i) for i in zip([0]+L, L+[0])]\n",
    "        \n",
    "a = pascal_triange_iter()\n",
    "\n",
    "for i in range(7):\n",
    "    ss = \" \".join([str(d) for d in next(a)])\n",
    "    print(\"{0:^25}\".format(ss))"
   ]
  }
 ],
 "metadata": {
  "kernelspec": {
   "display_name": "Python 3.10.6 64-bit",
   "language": "python",
   "name": "python3"
  },
  "language_info": {
   "codemirror_mode": {
    "name": "ipython",
    "version": 3
   },
   "file_extension": ".py",
   "mimetype": "text/x-python",
   "name": "python",
   "nbconvert_exporter": "python",
   "pygments_lexer": "ipython3",
   "version": "3.10.6"
  },
  "orig_nbformat": 4,
  "vscode": {
   "interpreter": {
    "hash": "aee8b7b246df8f9039afb4144a1f6fd8d2ca17a180786b69acc140d282b71a49"
   }
  }
 },
 "nbformat": 4,
 "nbformat_minor": 2
}
